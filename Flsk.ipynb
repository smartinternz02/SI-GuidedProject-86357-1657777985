{
 "cells": [
  {
   "cell_type": "code",
   "execution_count": 5,
   "metadata": {},
   "outputs": [],
   "source": [
    "\n",
    "import requests\n",
    "import tensorflow as tf \n",
    "from tensorflow import keras \n",
    "import numpy as np\n",
    "import pandas as pd\n",
    "import os\n",
    "from tensorflow.keras.preprocessing import image\n",
    "from flask import Flask, render_template, request, redirect, url_for\n",
    "from werkzeug.utils import secure_filename\n",
    "from tensorflow.python.keras.backend import set_session\n",
    "from tensorflow.keras.models import load_model"
   ]
  },
  {
   "cell_type": "code",
   "execution_count": null,
   "metadata": {},
   "outputs": [
    {
     "name": "stdout",
     "output_type": "stream",
     "text": [
      " * Serving Flask app \"__main__\" (lazy loading)\n",
      " * Environment: production\n",
      "   WARNING: This is a development server. Do not use it in a production deployment.\n",
      "   Use a production WSGI server instead.\n",
      " * Debug mode: off\n"
     ]
    },
    {
     "name": "stderr",
     "output_type": "stream",
     "text": [
      " * Running on http://127.0.0.1:5000/ (Press CTRL+C to quit)\n"
     ]
    }
   ],
   "source": [
    "app=Flask(__name__)\n",
    "\n",
    "model1=load_model(r'C:\\Users\\Abirami\\Desktop\\smartinternz\\fruit.h5')\n",
    "model=load_model(r'C:\\Users\\Abirami\\Desktop\\smartinternz\\vegetable.h5')\n",
    "\n",
    "@app.route('/')\n",
    "def home():\n",
    "    return render_template('home.html')\n",
    "\n",
    "@app.route('/prediction')\n",
    "def prediction():\n",
    "    return render_template('predict.html')\n",
    "\n",
    "@app.route('/predict',methods=['POST'])\n",
    "def predict():\n",
    "    if request.method=='POST':\n",
    "        f=request.files['image']\n",
    "        basepath=os.path.dirname('__file__')\n",
    "        filepath=os.path.join(basepath,'uploads',secure_filename(f.filename))\n",
    "        f.save(filepath)\n",
    "        img=image.load_img(filepath,target_size=(128,128))\n",
    "        x=image.img_to_array(img)\n",
    "        x=np.expand_dims(x,axis=0)\n",
    "        plant=request.form['plant']\n",
    "        print(plant)\n",
    "        if(plant==\"vegetable\"):\n",
    "            pred=model.predict(x)\n",
    "            print(pred)\n",
    "            df=pd.read_excel(\"precautions-veg.xlsx\")\n",
    "            print(df.iloc[preds[0]]['caution'])\n",
    "        else:\n",
    "            pred=model1.predict(x)\n",
    "            \n",
    "            df=pd.read_excel(\"precautions-fruit.xlsx\")\n",
    "            print(df.iloc[preds[0]]['caution'])\n",
    "        return df.iloc[preds[0]]['caution']\n",
    " \n",
    "if __name__=='__main__':\n",
    "    app.run(debug=False)"
   ]
  },
  {
   "cell_type": "code",
   "execution_count": null,
   "metadata": {},
   "outputs": [],
   "source": []
  }
 ],
 "metadata": {
  "kernelspec": {
   "display_name": "Python 3",
   "language": "python",
   "name": "python3"
  },
  "language_info": {
   "codemirror_mode": {
    "name": "ipython",
    "version": 3
   },
   "file_extension": ".py",
   "mimetype": "text/x-python",
   "name": "python",
   "nbconvert_exporter": "python",
   "pygments_lexer": "ipython3",
   "version": "3.7.6"
  }
 },
 "nbformat": 4,
 "nbformat_minor": 4
}
